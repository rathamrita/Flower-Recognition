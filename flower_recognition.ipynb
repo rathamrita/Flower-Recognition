{
 "cells": [
  {
   "cell_type": "code",
   "execution_count": 18,
   "metadata": {},
   "outputs": [],
   "source": [
    "#import libraries\n",
    "import numpy as np\n",
    "import tensorflow as tf\n",
    "from keras.preprocessing.image import ImageDataGenerator"
   ]
  },
  {
   "cell_type": "code",
   "execution_count": 3,
   "metadata": {},
   "outputs": [
    {
     "data": {
      "text/plain": [
       "'2.11.0'"
      ]
     },
     "execution_count": 3,
     "metadata": {},
     "output_type": "execute_result"
    }
   ],
   "source": [
    "tf.__version__  \n",
    "#visit keras.io"
   ]
  },
  {
   "cell_type": "markdown",
   "metadata": {},
   "source": [
    "### DATA PROCESSING"
   ]
  },
  {
   "cell_type": "markdown",
   "metadata": {},
   "source": [
    "### 1.Training Image Processing"
   ]
  },
  {
   "cell_type": "code",
   "execution_count": 4,
   "metadata": {},
   "outputs": [
    {
     "name": "stdout",
     "output_type": "stream",
     "text": [
      "Found 3484 images belonging to 5 classes.\n"
     ]
    }
   ],
   "source": [
    "train_datagen = ImageDataGenerator(                 #train_datagen is the train data generator variable\n",
    "        rescale=1./255,\n",
    "        shear_range=0.2,\n",
    "        zoom_range=0.2,\n",
    "        horizontal_flip=True)\n",
    "training_set = train_datagen.flow_from_directory(\n",
    "        'training_data',\n",
    "        target_size=(64, 64),\n",
    "        batch_size=32,\n",
    "        class_mode='categorical')"
   ]
  },
  {
   "cell_type": "markdown",
   "metadata": {},
   "source": [
    "### 2.Test Image Processing"
   ]
  },
  {
   "cell_type": "code",
   "execution_count": 5,
   "metadata": {},
   "outputs": [
    {
     "name": "stdout",
     "output_type": "stream",
     "text": [
      "Found 833 images belonging to 5 classes.\n"
     ]
    }
   ],
   "source": [
    "test_datagen = ImageDataGenerator(rescale=1./255)\n",
    "test_set = test_datagen.flow_from_directory(\n",
    "        'test_data',\n",
    "        target_size=(64, 64),\n",
    "        batch_size=32,\n",
    "        class_mode='categorical')"
   ]
  },
  {
   "cell_type": "markdown",
   "metadata": {},
   "source": [
    "### MODEL BUILDING"
   ]
  },
  {
   "cell_type": "code",
   "execution_count": 6,
   "metadata": {},
   "outputs": [],
   "source": [
    "cnn = tf.keras.models.Sequential()"
   ]
  },
  {
   "cell_type": "code",
   "execution_count": 7,
   "metadata": {},
   "outputs": [],
   "source": [
    "cnn.add(tf.keras.layers.Conv2D(filters=64 , kernel_size=3 , activation='relu' , input_shape=[64,64,3]))\n",
    "cnn.add(tf.keras.layers.MaxPool2D(pool_size=2,strides=2))"
   ]
  },
  {
   "cell_type": "code",
   "execution_count": 8,
   "metadata": {},
   "outputs": [],
   "source": [
    "cnn.add(tf.keras.layers.Conv2D(filters=64 , kernel_size=3 , activation='relu' ))\n",
    "cnn.add(tf.keras.layers.MaxPool2D(pool_size=2 , strides=2))"
   ]
  },
  {
   "cell_type": "code",
   "execution_count": 9,
   "metadata": {},
   "outputs": [],
   "source": [
    "cnn.add(tf.keras.layers.Dropout(0.5))"
   ]
  },
  {
   "cell_type": "code",
   "execution_count": 10,
   "metadata": {},
   "outputs": [],
   "source": [
    "cnn.add(tf.keras.layers.Flatten())"
   ]
  },
  {
   "cell_type": "code",
   "execution_count": 11,
   "metadata": {},
   "outputs": [],
   "source": [
    "cnn.add(tf.keras.layers.Dense(units=128, activation='relu'))"
   ]
  },
  {
   "cell_type": "code",
   "execution_count": 12,
   "metadata": {},
   "outputs": [],
   "source": [
    "cnn.add(tf.keras.layers.Dense(units=5 , activation='softmax'))"
   ]
  },
  {
   "cell_type": "code",
   "execution_count": 13,
   "metadata": {},
   "outputs": [],
   "source": [
    "cnn.compile(optimizer = 'rmsprop' , loss = 'categorical_crossentropy' , metrics = ['accuracy'])"
   ]
  },
  {
   "cell_type": "code",
   "execution_count": 14,
   "metadata": {},
   "outputs": [
    {
     "name": "stdout",
     "output_type": "stream",
     "text": [
      "Epoch 1/30\n",
      "109/109 [==============================] - 32s 282ms/step - loss: 1.3072 - accuracy: 0.4486 - val_loss: 1.3286 - val_accuracy: 0.4478\n",
      "Epoch 2/30\n",
      "109/109 [==============================] - 28s 257ms/step - loss: 1.0777 - accuracy: 0.5652 - val_loss: 0.9910 - val_accuracy: 0.5978\n",
      "Epoch 3/30\n",
      "109/109 [==============================] - 28s 259ms/step - loss: 0.9620 - accuracy: 0.6228 - val_loss: 0.9782 - val_accuracy: 0.6327\n",
      "Epoch 4/30\n",
      "109/109 [==============================] - 29s 269ms/step - loss: 0.8976 - accuracy: 0.6518 - val_loss: 0.9099 - val_accuracy: 0.6495\n",
      "Epoch 5/30\n",
      "109/109 [==============================] - 30s 277ms/step - loss: 0.8520 - accuracy: 0.6725 - val_loss: 1.0385 - val_accuracy: 0.6267\n",
      "Epoch 6/30\n",
      "109/109 [==============================] - 29s 266ms/step - loss: 0.8219 - accuracy: 0.6803 - val_loss: 0.8088 - val_accuracy: 0.6711\n",
      "Epoch 7/30\n",
      "109/109 [==============================] - 29s 269ms/step - loss: 0.7753 - accuracy: 0.7026 - val_loss: 0.9402 - val_accuracy: 0.6579\n",
      "Epoch 8/30\n",
      "109/109 [==============================] - 31s 284ms/step - loss: 0.7596 - accuracy: 0.7067 - val_loss: 0.8511 - val_accuracy: 0.6675\n",
      "Epoch 9/30\n",
      "109/109 [==============================] - 34s 308ms/step - loss: 0.7184 - accuracy: 0.7265 - val_loss: 0.8485 - val_accuracy: 0.6675\n",
      "Epoch 10/30\n",
      "109/109 [==============================] - 32s 289ms/step - loss: 0.6933 - accuracy: 0.7374 - val_loss: 0.8524 - val_accuracy: 0.6723\n",
      "Epoch 11/30\n",
      "109/109 [==============================] - 32s 293ms/step - loss: 0.6708 - accuracy: 0.7402 - val_loss: 0.7865 - val_accuracy: 0.7047\n",
      "Epoch 12/30\n",
      "109/109 [==============================] - 31s 289ms/step - loss: 0.6473 - accuracy: 0.7445 - val_loss: 0.8205 - val_accuracy: 0.7191\n",
      "Epoch 13/30\n",
      "109/109 [==============================] - 32s 296ms/step - loss: 0.6189 - accuracy: 0.7678 - val_loss: 0.7767 - val_accuracy: 0.7203\n",
      "Epoch 14/30\n",
      "109/109 [==============================] - 32s 293ms/step - loss: 0.6012 - accuracy: 0.7735 - val_loss: 0.7883 - val_accuracy: 0.7071\n",
      "Epoch 15/30\n",
      "109/109 [==============================] - 32s 291ms/step - loss: 0.5694 - accuracy: 0.7842 - val_loss: 0.9186 - val_accuracy: 0.6531\n",
      "Epoch 16/30\n",
      "109/109 [==============================] - 32s 290ms/step - loss: 0.5525 - accuracy: 0.7876 - val_loss: 0.8720 - val_accuracy: 0.6867\n",
      "Epoch 17/30\n",
      "109/109 [==============================] - 33s 302ms/step - loss: 0.5306 - accuracy: 0.7985 - val_loss: 0.8682 - val_accuracy: 0.7095\n",
      "Epoch 18/30\n",
      "109/109 [==============================] - 32s 297ms/step - loss: 0.5142 - accuracy: 0.8054 - val_loss: 0.9079 - val_accuracy: 0.6639\n",
      "Epoch 19/30\n",
      "109/109 [==============================] - 32s 290ms/step - loss: 0.5041 - accuracy: 0.8163 - val_loss: 0.8324 - val_accuracy: 0.7011\n",
      "Epoch 20/30\n",
      "109/109 [==============================] - 32s 293ms/step - loss: 0.4849 - accuracy: 0.8169 - val_loss: 0.8546 - val_accuracy: 0.6759\n",
      "Epoch 21/30\n",
      "109/109 [==============================] - 32s 295ms/step - loss: 0.4780 - accuracy: 0.8246 - val_loss: 0.9261 - val_accuracy: 0.6771\n",
      "Epoch 22/30\n",
      "109/109 [==============================] - 32s 297ms/step - loss: 0.4527 - accuracy: 0.8312 - val_loss: 1.0373 - val_accuracy: 0.6831\n",
      "Epoch 23/30\n",
      "109/109 [==============================] - 32s 292ms/step - loss: 0.4353 - accuracy: 0.8421 - val_loss: 1.1362 - val_accuracy: 0.6807\n",
      "Epoch 24/30\n",
      "109/109 [==============================] - 32s 292ms/step - loss: 0.4197 - accuracy: 0.8476 - val_loss: 0.9540 - val_accuracy: 0.7071\n",
      "Epoch 25/30\n",
      "109/109 [==============================] - 32s 291ms/step - loss: 0.4001 - accuracy: 0.8591 - val_loss: 0.8736 - val_accuracy: 0.7071\n",
      "Epoch 26/30\n",
      "109/109 [==============================] - 32s 289ms/step - loss: 0.4038 - accuracy: 0.8525 - val_loss: 0.9008 - val_accuracy: 0.7083\n",
      "Epoch 27/30\n",
      "109/109 [==============================] - 32s 291ms/step - loss: 0.3826 - accuracy: 0.8582 - val_loss: 0.9269 - val_accuracy: 0.6891\n",
      "Epoch 28/30\n",
      "109/109 [==============================] - 32s 290ms/step - loss: 0.3564 - accuracy: 0.8717 - val_loss: 0.9245 - val_accuracy: 0.7191\n",
      "Epoch 29/30\n",
      "109/109 [==============================] - 32s 295ms/step - loss: 0.3600 - accuracy: 0.8700 - val_loss: 1.0802 - val_accuracy: 0.6819\n",
      "Epoch 30/30\n",
      "109/109 [==============================] - 33s 300ms/step - loss: 0.3406 - accuracy: 0.8840 - val_loss: 0.9784 - val_accuracy: 0.7119\n"
     ]
    },
    {
     "data": {
      "text/plain": [
       "<keras.callbacks.History at 0x1db63349a00>"
      ]
     },
     "execution_count": 14,
     "metadata": {},
     "output_type": "execute_result"
    }
   ],
   "source": [
    "cnn.fit(x = training_set , validation_data = test_set , epochs = 30)"
   ]
  },
  {
   "cell_type": "code",
   "execution_count": 17,
   "metadata": {},
   "outputs": [
    {
     "ename": "ImportError",
     "evalue": "cannot import name 'tfds' from 'keras.preprocessing' (C:\\Users\\ASUS\\anaconda3\\lib\\site-packages\\keras\\preprocessing\\__init__.py)",
     "output_type": "error",
     "traceback": [
      "\u001b[1;31m---------------------------------------------------------------------------\u001b[0m",
      "\u001b[1;31mImportError\u001b[0m                               Traceback (most recent call last)",
      "\u001b[1;32m<ipython-input-17-90796bc0c756>\u001b[0m in \u001b[0;36m<module>\u001b[1;34m\u001b[0m\n\u001b[1;32m----> 1\u001b[1;33m \u001b[1;32mfrom\u001b[0m \u001b[0mkeras\u001b[0m\u001b[1;33m.\u001b[0m\u001b[0mpreprocessing\u001b[0m \u001b[1;32mimport\u001b[0m \u001b[0mtfds\u001b[0m\u001b[1;33m\u001b[0m\u001b[1;33m\u001b[0m\u001b[0m\n\u001b[0m\u001b[0;32m      2\u001b[0m \u001b[0mtest_image\u001b[0m \u001b[1;33m=\u001b[0m \u001b[0mtfds\u001b[0m\u001b[1;33m.\u001b[0m\u001b[0mload_img\u001b[0m\u001b[1;33m(\u001b[0m\u001b[1;34m'Prediction/daisy.jpg'\u001b[0m\u001b[1;33m,\u001b[0m\u001b[0mtarget_size\u001b[0m\u001b[1;33m=\u001b[0m\u001b[1;33m(\u001b[0m\u001b[1;36m64\u001b[0m\u001b[1;33m,\u001b[0m\u001b[1;36m64\u001b[0m\u001b[1;33m)\u001b[0m\u001b[1;33m)\u001b[0m\u001b[1;33m\u001b[0m\u001b[1;33m\u001b[0m\u001b[0m\n\u001b[0;32m      3\u001b[0m \u001b[0mtest_image\u001b[0m \u001b[1;33m=\u001b[0m \u001b[0mimage\u001b[0m\u001b[1;33m.\u001b[0m\u001b[0mimg_to_array\u001b[0m\u001b[1;33m(\u001b[0m\u001b[0mtest_image\u001b[0m\u001b[1;33m)\u001b[0m\u001b[1;33m\u001b[0m\u001b[1;33m\u001b[0m\u001b[0m\n\u001b[0;32m      4\u001b[0m \u001b[0mtest_image\u001b[0m \u001b[1;33m=\u001b[0m \u001b[0mnp\u001b[0m\u001b[1;33m.\u001b[0m\u001b[0mexpand_dims\u001b[0m\u001b[1;33m(\u001b[0m\u001b[0mtest_image\u001b[0m\u001b[1;33m,\u001b[0m\u001b[0maxis\u001b[0m\u001b[1;33m=\u001b[0m\u001b[1;36m0\u001b[0m\u001b[1;33m)\u001b[0m\u001b[1;33m\u001b[0m\u001b[1;33m\u001b[0m\u001b[0m\n\u001b[0;32m      5\u001b[0m \u001b[0mresult\u001b[0m \u001b[1;33m=\u001b[0m \u001b[0mcnn\u001b[0m\u001b[1;33m.\u001b[0m\u001b[0mpredict\u001b[0m\u001b[1;33m(\u001b[0m\u001b[0mtest_image\u001b[0m\u001b[1;33m)\u001b[0m\u001b[1;33m\u001b[0m\u001b[1;33m\u001b[0m\u001b[0m\n",
      "\u001b[1;31mImportError\u001b[0m: cannot import name 'tfds' from 'keras.preprocessing' (C:\\Users\\ASUS\\anaconda3\\lib\\site-packages\\keras\\preprocessing\\__init__.py)"
     ]
    }
   ],
   "source": [
    "from keras.preprocessing import tfds\n",
    "test_image = tfds.load_img('Prediction/daisy.jpg',target_size=(64,64))\n",
    "test_image = image.img_to_array(test_image)\n",
    "test_image = np.expand_dims(test_image,axis=0)\n",
    "result = cnn.predict(test_image)\n",
    "training_set.class_indices"
   ]
  },
  {
   "cell_type": "code",
   "execution_count": null,
   "metadata": {},
   "outputs": [],
   "source": [
    "from tensorflow.keras.utils import load_img\n",
    "# load the image\n",
    "test_img = load_img('prediction/daisy.jpg')\n"
   ]
  },
  {
   "cell_type": "code",
   "execution_count": 16,
   "metadata": {},
   "outputs": [
    {
     "ename": "SyntaxError",
     "evalue": "invalid syntax (<ipython-input-16-790a0395f044>, line 3)",
     "output_type": "error",
     "traceback": [
      "\u001b[1;36m  File \u001b[1;32m\"<ipython-input-16-790a0395f044>\"\u001b[1;36m, line \u001b[1;32m3\u001b[0m\n\u001b[1;33m    test_image = image.img_to_array(test_image)\u001b[0m\n\u001b[1;37m    ^\u001b[0m\n\u001b[1;31mSyntaxError\u001b[0m\u001b[1;31m:\u001b[0m invalid syntax\n"
     ]
    }
   ],
   "source": []
  },
  {
   "cell_type": "code",
   "execution_count": null,
   "metadata": {},
   "outputs": [],
   "source": []
  }
 ],
 "metadata": {
  "kernelspec": {
   "display_name": "Python 3",
   "language": "python",
   "name": "python3"
  },
  "language_info": {
   "codemirror_mode": {
    "name": "ipython",
    "version": 3
   },
   "file_extension": ".py",
   "mimetype": "text/x-python",
   "name": "python",
   "nbconvert_exporter": "python",
   "pygments_lexer": "ipython3",
   "version": "3.8.5"
  }
 },
 "nbformat": 4,
 "nbformat_minor": 4
}
